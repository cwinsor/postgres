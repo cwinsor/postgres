{
 "cells": [
  {
   "cell_type": "markdown",
   "metadata": {},
   "source": [
    "### Following\n",
    "* PostgreSQL - Getting Started\n",
    "* https://app.pluralsight.com/course-player?clipId=81014e20-2a56-47da-b4af-8de9118fa340"
   ]
  },
  {
   "cell_type": "markdown",
   "metadata": {},
   "source": [
    "### In this course:\n",
    "IDE = pgAdmin II\n",
    "\n",
    "Sample database - pagilia\n",
    "\n",
    "postgresqltutoria.com/postgresql-sample-database\n",
    "git.ly/pagilia\n",
    "\n",
    "\n"
   ]
  },
  {
   "cell_type": "markdown",
   "metadata": {},
   "source": [
    "### Other recommended course\n",
    "* Rob Conery for .NET Developers"
   ]
  },
  {
   "cell_type": "markdown",
   "metadata": {},
   "source": [
    "### Alternatives are:\n",
    "* (microsoft) SQL Server\n",
    "* (general open source including Python) mySQL\n",
    "\n",
    "Advantages of postgreSQL are:\n",
    "* object inheritance of tables\n",
    "* high-value features for free (data compression)\n",
    "* does not do null insert like mySQL (data integrity)\n",
    "* open source but robust\n",
    "* performance improved in version 9.x\n"
   ]
  },
  {
   "cell_type": "markdown",
   "metadata": {},
   "source": [
    "### Stack Builder and pgAdmin are basic with install\n",
    "\n",
    "### Add-ons, tools, utilities are:\n",
    " * EBD Language Pack\n",
    " * **pgAgent for PostgreSQL** - job scheduling multi-step batch/shell scripts and SQL tasks on complex schedules\n",
    " * **pgBouncer** - pool connections to one or more databases (on possibly different servers) and serve clients over TCP and Unix domain sockets\n",
    "* Database Drivers:\n",
    " * not interesting\n",
    "* Enterprise Database: Registration-Required, Trial Enterprise Tools\n",
    " * **EDB Migration Toolkit** - migrating tables and data from other database management systems to PostgreSQL.\n",
    " * **PEM SQL profiler** - locating and optimizing poorly-running SQL code\n",
    "* Enterprise Mgmt Agent\n",
    "* Enterprise Mgmt Server\n",
    "* Replication Server\n",
    "* Update Monitor\n",
    "\n",
    "\n"
   ]
  },
  {
   "cell_type": "code",
   "execution_count": null,
   "metadata": {},
   "outputs": [],
   "source": []
  }
 ],
 "metadata": {
  "kernelspec": {
   "display_name": "Python 3",
   "language": "python",
   "name": "python3"
  },
  "language_info": {
   "codemirror_mode": {
    "name": "ipython",
    "version": 3
   },
   "file_extension": ".py",
   "mimetype": "text/x-python",
   "name": "python",
   "nbconvert_exporter": "python",
   "pygments_lexer": "ipython3",
   "version": "3.7.4"
  }
 },
 "nbformat": 4,
 "nbformat_minor": 2
}
